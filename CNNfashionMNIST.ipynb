{
  "nbformat": 4,
  "nbformat_minor": 0,
  "metadata": {
    "colab": {
      "name": "CNNfashionMNIST.ipynb",
      "provenance": [],
      "collapsed_sections": []
    },
    "kernelspec": {
      "name": "python3",
      "display_name": "Python 3"
    }
  },
  "cells": [
    {
      "cell_type": "code",
      "metadata": {
        "colab_type": "code",
        "id": "YDaD1-Ct-EAY",
        "outputId": "138315b9-5fdf-4ae1-9aeb-de8c2265a84d",
        "colab": {
          "base_uri": "https://localhost:8080/",
          "height": 836
        }
      },
      "source": [
        "import tensorflow as tf\n",
        "\n",
        "class myCallback(tf.keras.callbacks.Callback):\n",
        "  def on_epoch_end(self, epoch, logs = {}):\n",
        "    if(logs.get('acc') > 0.998):\n",
        "      print(\"Reached 99.8% accuracy so cancelling training!\")\n",
        "      self.model.stop_training = True\n",
        "callbacks = myCallback()\n",
        "\n",
        "mnist = tf.keras.datasets.mnist\n",
        "(training_images, training_labels), (test_images, test_labels) = mnist.load_data()\n",
        "\n",
        "# Need to tell conv layers that there is 1 channel (Greyscale)\n",
        "training_images = training_images.reshape(training_images.shape[0], training_images.shape[1], training_images.shape[2], 1)\n",
        "test_images = test_images.reshape(test_images.shape[0], test_images.shape[1], test_images.shape[2], 1)\n",
        "\n",
        "# Greyscale images; divided by max value to keep values between 0 and 1 \n",
        "training_images = training_images / 255 \n",
        "test_images = test_images / 255\n",
        "\n",
        "model = tf.keras.models.Sequential([\n",
        "  tf.keras.layers.Conv2D(64, (3,3), activation = 'relu', input_shape = (training_images.shape[1], training_images.shape[2], 1)),\n",
        "  tf.keras.layers.MaxPooling2D(2,2),\n",
        "  tf.keras.layers.Conv2D(64, (3,3), activation = 'relu'),\n",
        "  tf.keras.layers.MaxPooling2D(2,2),\n",
        "  tf.keras.layers.Flatten(),\n",
        "  tf.keras.layers.Dense(128, activation = 'relu'),\n",
        "  tf.keras.layers.Dense(10, activation = 'softmax')\n",
        "])\n",
        "\n",
        "model.summary()\n",
        "model.compile(optimizer='adam', loss='sparse_categorical_crossentropy', metrics=['accuracy'])\n",
        "history = model.fit(training_images, training_labels, epochs = 10, callbacks = [callbacks])\n",
        "\n",
        "\n"
      ],
      "execution_count": 0,
      "outputs": [
        {
          "output_type": "stream",
          "text": [
            "Downloading data from https://storage.googleapis.com/tensorflow/tf-keras-datasets/mnist.npz\n",
            "11493376/11490434 [==============================] - 0s 0us/step\n",
            "WARNING:tensorflow:From /usr/local/lib/python3.6/dist-packages/tensorflow/python/ops/init_ops.py:1251: calling VarianceScaling.__init__ (from tensorflow.python.ops.init_ops) with dtype is deprecated and will be removed in a future version.\n",
            "Instructions for updating:\n",
            "Call initializer instance with the dtype argument instead of passing it to the constructor\n",
            "Model: \"sequential\"\n",
            "_________________________________________________________________\n",
            "Layer (type)                 Output Shape              Param #   \n",
            "=================================================================\n",
            "conv2d (Conv2D)              (None, 26, 26, 64)        640       \n",
            "_________________________________________________________________\n",
            "max_pooling2d (MaxPooling2D) (None, 13, 13, 64)        0         \n",
            "_________________________________________________________________\n",
            "conv2d_1 (Conv2D)            (None, 11, 11, 64)        36928     \n",
            "_________________________________________________________________\n",
            "max_pooling2d_1 (MaxPooling2 (None, 5, 5, 64)          0         \n",
            "_________________________________________________________________\n",
            "flatten (Flatten)            (None, 1600)              0         \n",
            "_________________________________________________________________\n",
            "dense (Dense)                (None, 128)               204928    \n",
            "_________________________________________________________________\n",
            "dense_1 (Dense)              (None, 10)                1290      \n",
            "=================================================================\n",
            "Total params: 243,786\n",
            "Trainable params: 243,786\n",
            "Non-trainable params: 0\n",
            "_________________________________________________________________\n",
            "Epoch 1/10\n",
            "60000/60000 [==============================] - 88s 1ms/sample - loss: 0.1240 - acc: 0.9628\n",
            "Epoch 2/10\n",
            "60000/60000 [==============================] - 86s 1ms/sample - loss: 0.0404 - acc: 0.9874\n",
            "Epoch 3/10\n",
            "60000/60000 [==============================] - 86s 1ms/sample - loss: 0.0271 - acc: 0.9911\n",
            "Epoch 4/10\n",
            "60000/60000 [==============================] - 87s 1ms/sample - loss: 0.0194 - acc: 0.9937\n",
            "Epoch 5/10\n",
            "60000/60000 [==============================] - 85s 1ms/sample - loss: 0.0139 - acc: 0.9956\n",
            "Epoch 6/10\n",
            "60000/60000 [==============================] - 88s 1ms/sample - loss: 0.0127 - acc: 0.9957\n",
            "Epoch 7/10\n",
            "60000/60000 [==============================] - 87s 1ms/sample - loss: 0.0091 - acc: 0.9972\n",
            "Epoch 8/10\n",
            "60000/60000 [==============================] - 87s 1ms/sample - loss: 0.0079 - acc: 0.9974\n",
            "Epoch 9/10\n",
            "60000/60000 [==============================] - 86s 1ms/sample - loss: 0.0071 - acc: 0.9978\n",
            "Epoch 10/10\n",
            "60000/60000 [==============================] - 86s 1ms/sample - loss: 0.0063 - acc: 0.9979\n"
          ],
          "name": "stdout"
        }
      ]
    },
    {
      "cell_type": "code",
      "metadata": {
        "id": "lnY7EVwlAEiz",
        "colab_type": "code",
        "colab": {}
      },
      "source": [
        ""
      ],
      "execution_count": 0,
      "outputs": []
    }
  ]
}